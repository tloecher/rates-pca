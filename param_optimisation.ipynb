{
 "cells": [
  {
   "cell_type": "markdown",
   "metadata": {},
   "source": [
    "# PCA Parameter Optimisation\n",
    "TL Mar 2019"
   ]
  },
  {
   "cell_type": "code",
   "execution_count": 1,
   "metadata": {},
   "outputs": [
    {
     "name": "stdout",
     "output_type": "stream",
     "text": [
      "Certain modules were not found which will affect which functions will work. Check if you have OneTick installed and module NumPy_OneTickQuery not found. Also check for win32com which might not work on Linux machines (untested)\n"
     ]
    },
    {
     "name": "stderr",
     "output_type": "stream",
     "text": [
      "Q:\\wp\\python-3.6.2.amd64\\lib\\site-packages\\statsmodels\\compat\\pandas.py:56: FutureWarning: The pandas.core.datetools module is deprecated and will be removed in a future version. Please use the pandas.tseries module instead.\n",
      "  from pandas.core import datetools\n"
     ]
    }
   ],
   "source": [
    "%load_ext autoreload\n",
    "%autoreload 2\n",
    "\n",
    "from pipe import getdata\n",
    "from pandas.tseries.offsets import BDay\n",
    "\n",
    "from IPython.core.debugger import Tracer #pdb.set_trace()\n",
    "import pdb\n",
    "\n",
    "import statsmodels.tsa.stattools as ts\n",
    "\n",
    "import random\n",
    "import time\n",
    "from itertools import compress\n",
    "from sklearn.decomposition import PCA"
   ]
  },
  {
   "cell_type": "code",
   "execution_count": 2,
   "metadata": {},
   "outputs": [],
   "source": [
    "## Import data from csv files ##\n",
    "\n",
    "import pandas as pd\n",
    "import numpy as np\n",
    "import matplotlib.pyplot as plt\n",
    "from datetime import datetime\n",
    "\n",
    "def csv2df(csvName):\n",
    "    \n",
    "    # Import and format CSV as df\n",
    "    # See spotEUR.csv for formatting template\n",
    "    \n",
    "    dfOut = pd.read_csv(csvName, parse_dates=[0],\n",
    "                        infer_datetime_format=True, dayfirst=True)\n",
    "    \n",
    "    dfOut['Date'] = pd.to_datetime(dfOut['Date'])\n",
    "    dfOut.set_index('Date', inplace=True)\n",
    "    dfOut = dfOut.sort_index() # Sort chronologically\n",
    "    \n",
    "    return dfOut"
   ]
  },
  {
   "cell_type": "code",
   "execution_count": 3,
   "metadata": {},
   "outputs": [],
   "source": [
    "## Stat analysis functions ##\n",
    "\n",
    "def runStats(dfInput, nCol):\n",
    "    \n",
    "    dfRets = dfInput.diff()*100 # Daily returns in bps\n",
    "    dfRets = dfRets.dropna() # First row is NaN, gets dropped, any others too\n",
    "    \n",
    "    colNames = dfRets.columns.get_values()\n",
    "    colNames[nCol]\n",
    "    \n",
    "    retRange = dfRets[colNames[nCol]].max()-dfRets[colNames[nCol]].min()\n",
    "\n",
    "    dfRets[colNames[nCol]].plot(kind='hist',bins=int(retRange),title=colNames[nCol])\n",
    "    \n",
    "    return print(colNames[nCol],\"\\n\",\n",
    "                 'range',retRange,\"\\n\",\n",
    "                 'mean',np.round(dfRets[colNames[nCol]].mean(),3),\"\\n\",\n",
    "                 'sigma',np.round(dfRets[colNames[nCol]].std(),3))"
   ]
  },
  {
   "cell_type": "code",
   "execution_count": 4,
   "metadata": {},
   "outputs": [],
   "source": [
    "## PC Analysis (rolling window) ##\n",
    "\n",
    "def pcaRun(dfPar):\n",
    "    \n",
    "    dfRets = dfPar.diff()*100 # Daily returns in bps\n",
    "    dfRets = dfRets.dropna() # First row is NaN, gets dropped, any others too\n",
    "    \n",
    "    from scipy import stats\n",
    "    dfRets_o = dfRets[(np.abs(stats.zscore(dfRets)) < 3).all(axis=1)] # Remove 3 sigma outliers\n",
    "    \n",
    "    cols = dfRets_o.shape[1]\n",
    "    pca = PCA(n_components=cols)\n",
    "    \n",
    "    eigenVal = []\n",
    "    eigenVec = []\n",
    "\n",
    "    sampleSize = dfRets_o.shape[0]\n",
    "    lookbackSize = 90\n",
    "    \n",
    "    for i in range(0,(sampleSize-lookbackSize)):\n",
    "        #print(i,lookbackSize+i)\n",
    "        pca.fit(dfRets_o.iloc[i:lookbackSize+i])\n",
    "        eigenVal.append(pca.explained_variance_ratio_)\n",
    "        eigenVec.append(pca.components_)\n",
    "        \n",
    "    dfPC1 = pd.DataFrame().reindex_like(dfRets_o)\n",
    "    dfPC1 = dfPC1.iloc[lookbackSize:]\n",
    "    \n",
    "    for n in range(0,len(eigenVec)):\n",
    "        for k in range(0,len(eigenVec[0][0])):\n",
    "            dfPC1.iloc[n,k] = np.abs(eigenVec[n][0][k])\n",
    "        \n",
    "    return dfPC1\n",
    "\n",
    "def pcaPlot(dfLoad, nDays, firstTenor=0, lastTenor='', mySize=(14,10)):\n",
    "    \n",
    "    if lastTenor=='':\n",
    "        lastTenor = dfLoad.shape[1]\n",
    "    \n",
    "    return dfLoad.iloc[dfLoad.shape[0]-nDays:,\n",
    "                       firstTenor:lastTenor].plot(legend=True,\n",
    "                                                  figsize=mySize,\n",
    "                                                  grid=True,\n",
    "                                                  colormap='rainbow')"
   ]
  },
  {
   "cell_type": "code",
   "execution_count": 5,
   "metadata": {},
   "outputs": [],
   "source": [
    "## Time series plotting functions ##\n",
    "\n",
    "def curvePlot(dfInput, nDays, sLong, sShort, mySize=(14,5)):\n",
    "    \n",
    "    dfSpread = pd.DataFrame()\n",
    "    dfSpread = (dfInput[sLong + ' Par Swap Rate']-dfInput[sShort + ' Par Swap Rate'])*100\n",
    "    \n",
    "    axSpread = dfSpread.iloc[dfSpread.shape[0]-nDays:].plot(legend=False,\n",
    "                                                            figsize=mySize,\n",
    "                                                            title='Curve '+sShort+'/'+sLong,\n",
    "                                                            grid=True)\n",
    "    return axSpread\n",
    "\n",
    "def flyPlot(dfInput, nDays, wing1, belly, wing2, mySize=(14,5)):\n",
    "    \n",
    "    dfFly = pd.DataFrame()\n",
    "    dfFly = ((2*dfInput[belly + ' Par Swap Rate'])\n",
    "             -dfInput[wing1 + ' Par Swap Rate']\n",
    "             -dfInput[wing2 + ' Par Swap Rate'])*100\n",
    "    \n",
    "    axFly = dfFly.iloc[dfSpread.shape[0]-nDays:].plot(legend=False,\n",
    "                                                      figsize=mySize,\n",
    "                                                      title='Fly '+wing1+'/'+belly+'/'+wing2,\n",
    "                                                      grid=True)\n",
    "    return axFly"
   ]
  },
  {
   "cell_type": "code",
   "execution_count": 6,
   "metadata": {},
   "outputs": [],
   "source": [
    "## Column renaming function ##\n",
    "\n",
    "def renameCol(dfInput,removeString=' Fwd Swap Rate'):\n",
    "    \n",
    "    test = dfInput.columns.get_values()\n",
    "    \n",
    "    for x in range(0,len(test)):\n",
    "        test[x] = test[x].replace(removeString,'')\n",
    "        \n",
    "    dfInput.columns = test\n",
    "    \n",
    "    return dfInput"
   ]
  },
  {
   "cell_type": "code",
   "execution_count": 7,
   "metadata": {},
   "outputs": [],
   "source": [
    "from sklearn.decomposition import PCA\n",
    "\n",
    "def pcaRes(dfCross,trainSize,testSize):\n",
    "    \n",
    "    pca = PCA(n_components=3) #n_components=3\n",
    "    \n",
    "    m = trainSize # training set size\n",
    "    n = testSize # test set size\n",
    "    \n",
    "    trainSet = dfCross.iloc[dfCross.shape[0]-n-m:dfCross.shape[0]-n] # Need a way to loop thru the entire sample\n",
    "    testSet = dfCross.iloc[dfCross.shape[0]-n:]\n",
    "    \n",
    "    # Train model\n",
    "    pca.fit(trainSet)\n",
    "\n",
    "    # Regen rates from model both in and out of sample\n",
    "    inSample = pca.transform(trainSet)\n",
    "    outSample = pca.transform(testSet) #pd.DataFrame(pca.transform(testSet)).set_index(testSet.index)\n",
    "    \n",
    "    inRes = trainSet - pca.inverse_transform(inSample)\n",
    "    outRes = testSet - pca.inverse_transform(outSample)\n",
    "    \n",
    "    return inRes, outRes"
   ]
  },
  {
   "cell_type": "code",
   "execution_count": 8,
   "metadata": {},
   "outputs": [],
   "source": [
    "from sklearn.linear_model import LinearRegression\n",
    "\n",
    "def costSlope(dfInput,plot=False):\n",
    "    \n",
    "    model = LinearRegression(fit_intercept=True)\n",
    "    \n",
    "    cols = dfInput.columns.get_values()\n",
    "    x = np.arange(dfInput.shape[0])\n",
    "    slope = []\n",
    "    cost = []\n",
    "    \n",
    "    for i in range(0,dfInput.shape[1]):\n",
    "        \n",
    "        y = dfInput[cols[i]].values\n",
    "        \n",
    "        model.fit(x[:, np.newaxis], y)\n",
    "        xfit = np.linspace(0, dfInput.shape[0], 1000)\n",
    "        yfit = model.predict(xfit[:, np.newaxis])\n",
    "        \n",
    "        slope.append(model.coef_[0])\n",
    "        cost.append(np.round(np.abs(model.coef_[0])-0.01,5))\n",
    "               \n",
    "        if plot==True:\n",
    "            plt.scatter(x, y)\n",
    "            plt.plot(xfit, yfit)\n",
    "        \n",
    "    return slope, cost"
   ]
  },
  {
   "cell_type": "code",
   "execution_count": 12,
   "metadata": {},
   "outputs": [
    {
     "name": "stdout",
     "output_type": "stream",
     "text": [
      "5Y EUR/USD Basis Swap Spread \n",
      " range 812.49 \n",
      " mean 0.453 \n",
      " sigma 77.6\n"
     ]
    },
    {
     "data": {
      "image/png": "[encoded data removed]",
      "text/plain": [
       "<matplotlib.figure.Figure at 0xfbbadd8>"
      ]
     },
     "metadata": {},
     "output_type": "display_data"
    }
   ],
   "source": [
    "## Check data\n",
    "\n",
    "dfdummy = csv2df('eurusdPar.csv')\n",
    "\n",
    "from scipy import stats\n",
    "dfdumdum = dfdummy[(np.abs(stats.zscore(dfdummy)) < 3).all(axis=1)]\n",
    "\n",
    "runStats(dfdumdum,9)\n",
    "\n",
    "plt.show()"
   ]
  },
  {
   "cell_type": "code",
   "execution_count": 9,
   "metadata": {},
   "outputs": [],
   "source": [
    "# Data import\n",
    "dfTest = renameCol(csv2df('eurusdFwdnew.csv'),' Basis Fwd Swap Spread')\n",
    "dfTest = dfTest.dropna()"
   ]
  },
  {
   "cell_type": "code",
   "execution_count": 10,
   "metadata": {},
   "outputs": [],
   "source": [
    "## PCA param optimization\n",
    "\n",
    "training = np.arange(200)\n",
    "test = np.arange(60)\n",
    "\n",
    "outCost = np.random.rand(len(training),len(test))\n",
    "\n",
    "#dfOut = pd.DataFrame({'trainSize':[],'testSize':[],'Cost':[]})\n",
    "\n",
    "for i in range(3,len(training)):\n",
    "    \n",
    "    for j in range(1,len(test)):\n",
    "        \n",
    "        myRes = pcaRes(dfTest,training[i],test[j])\n",
    "        outCost[i,j] = (np.mean(costSlope(myRes[1])[1]))\n",
    "        #outCost.append(np.mean(costSlope(myRes[1])[1]))"
   ]
  },
  {
   "cell_type": "code",
   "execution_count": 40,
   "metadata": {},
   "outputs": [
    {
     "data": {
      "image/png": "[encoded data removed]",
      "text/plain": [
       "<matplotlib.figure.Figure at 0xdffc780>"
      ]
     },
     "metadata": {},
     "output_type": "display_data"
    }
   ],
   "source": [
    "fig = plt.figure(figsize=(10,16))\n",
    "plt.imshow(outCost[3:,2:], cmap='rainbow')\n",
    "plt.colorbar(shrink=1, aspect=50)\n",
    "plt.show()"
   ]
  },
  {
   "cell_type": "code",
   "execution_count": 34,
   "metadata": {},
   "outputs": [
    {
     "name": "stdout",
     "output_type": "stream",
     "text": [
      "-0.006936\n",
      "0.006035\n"
     ]
    },
    {
     "data": {
      "image/png": "[encoded data removed]",
      "text/plain": [
       "<matplotlib.figure.Figure at 0xded0f60>"
      ]
     },
     "metadata": {},
     "output_type": "display_data"
    }
   ],
   "source": [
    "inSlope, inCost = costSlope(inRes)\n",
    "outSlope, outCost = costSlope(resid)\n",
    "\n",
    "print(np.mean(inCost))\n",
    "print(np.mean(outCost))\n",
    "\n",
    "plt.scatter(np.arange(len(inCost)),inCost,label='in')\n",
    "plt.scatter(np.arange(len(outCost)),outCost,label='out')\n",
    "plt.legend(loc='best')\n",
    "plt.show()"
   ]
  },
  {
   "cell_type": "code",
   "execution_count": 25,
   "metadata": {},
   "outputs": [
    {
     "name": "stdout",
     "output_type": "stream",
     "text": [
      "1Y X 1Y EUR/USD w/ lag of 10\n",
      "Normality True\n",
      "Mean 0.0\n",
      "pval 0.6202765703201294\n",
      "Mean rev likely @ 5% c.l. True \n",
      "\n",
      "2Y X 1Y EUR/USD w/ lag of 10\n",
      "Normality True\n",
      "Mean -0.0\n",
      "pval 0.5771496891975403\n",
      "Mean rev likely @ 5% c.l. True \n",
      "\n",
      "3Y X 1Y EUR/USD w/ lag of 10\n",
      "Normality True\n",
      "Mean -0.0\n",
      "pval 0.2368571013212204\n",
      "Mean rev likely @ 5% c.l. True \n",
      "\n",
      "5Y X 5Y EUR/USD w/ lag of 10\n",
      "Normality False\n",
      "Mean 0.0\n",
      "pval 0.00032735575223341584\n",
      "Mean rev likely @ 5% c.l. True \n",
      "\n",
      "10Y X 2Y EUR/USD w/ lag of 10\n",
      "Normality False\n",
      "Mean 0.0\n",
      "pval 0.027401935309171677\n",
      "Mean rev likely @ 5% c.l. True \n",
      "\n",
      "12Y X 3Y EUR/USD w/ lag of 10\n",
      "Normality False\n",
      "Mean 0.0\n",
      "pval 1.4705763078382006e-06\n",
      "Mean rev likely @ 5% c.l. False \n",
      "\n",
      "15Y X 5Y EUR/USD w/ lag of 10\n",
      "Normality True\n",
      "Mean -0.0\n",
      "pval 0.2291952669620514\n",
      "Mean rev likely @ 5% c.l. False \n",
      "\n",
      "20Y X 5Y EUR/USD w/ lag of 10\n",
      "Normality False\n",
      "Mean -0.0\n",
      "pval 2.4876905868609356e-08\n",
      "Mean rev likely @ 5% c.l. False \n",
      "\n",
      "25Y X 5Y EUR/USD w/ lag of 10\n",
      "Normality False\n",
      "Mean 0.0\n",
      "pval 0.005125352647155523\n",
      "Mean rev likely @ 5% c.l. True \n",
      "\n",
      "30Y X 10Y EUR/USD w/ lag of 10\n",
      "Normality False\n",
      "Mean 0.0\n",
      "pval 6.669250041113628e-08\n",
      "Mean rev likely @ 5% c.l. True \n",
      "\n"
     ]
    }
   ],
   "source": [
    "### In sample residual stats ###\n",
    "\n",
    "inRes # In sample residuals\n",
    "\n",
    "cols = inRes.columns.get_values()\n",
    "n = 1\n",
    "inRes[cols[n]].plot(kind='hist',bins=15,title=cols[n])\n",
    "#plt.show()\n",
    "\n",
    "from scipy import stats\n",
    "\n",
    "cols = inRes.columns.get_values()\n",
    "tstat = []\n",
    "pval = []\n",
    "\n",
    "# Import the Time Series library\n",
    "import statsmodels.tsa.stattools as ts\n",
    "\n",
    "# Output the results of the Augmented Dickey-Fuller test for Google\n",
    "# with a lag order value of 1\n",
    "\n",
    "lag = 10 # Time ranges to consider 1,2,3,5,10,20,30\n",
    "\n",
    "for i in range(0,inRes.shape[1]):\n",
    "    \n",
    "    print(cols[i],'w/ lag of',lag)\n",
    "    \n",
    "    tstat.append(stats.shapiro(inRes[cols[i]].values)[0])\n",
    "    pval.append(stats.shapiro(inRes[cols[i]].values)[1])\n",
    "    print('Normality',stats.shapiro(inRes[cols[i]].values)[1]>0.05) #Null accepted if p>0.05 and if Normal\n",
    "    print('Mean',np.round(np.mean(inRes[cols[i]]),5))\n",
    "    print('pval',stats.shapiro(inRes[cols[i]].values)[1])\n",
    "    \n",
    "    print('Mean rev likely @ 5% c.l.',ts.adfuller(inRes[cols[i]], lag)[1]<0.05,'\\n')"
   ]
  },
  {
   "cell_type": "code",
   "execution_count": 26,
   "metadata": {},
   "outputs": [
    {
     "name": "stdout",
     "output_type": "stream",
     "text": [
      "1Y X 1Y EUR/USD w/ lag of 10\n",
      "Normality True\n",
      "Mean 0.16032\n",
      "pval 0.5269463062286377\n",
      "Mean rev likely @ 5% c.l. True \n",
      "\n",
      "2Y X 1Y EUR/USD w/ lag of 10\n",
      "Normality True\n",
      "Mean -0.02266\n",
      "pval 0.12286169826984406\n",
      "Mean rev likely @ 5% c.l. True \n",
      "\n",
      "3Y X 1Y EUR/USD w/ lag of 10\n",
      "Normality True\n",
      "Mean -0.15357\n",
      "pval 0.10777092725038528\n",
      "Mean rev likely @ 5% c.l. True \n",
      "\n",
      "5Y X 5Y EUR/USD w/ lag of 10\n",
      "Normality False\n",
      "Mean -0.46891\n",
      "pval 0.003395246574655175\n",
      "Mean rev likely @ 5% c.l. False \n",
      "\n",
      "10Y X 2Y EUR/USD w/ lag of 10\n",
      "Normality False\n",
      "Mean -0.10178\n",
      "pval 0.00010490295971976593\n",
      "Mean rev likely @ 5% c.l. False \n",
      "\n",
      "12Y X 3Y EUR/USD w/ lag of 10\n",
      "Normality True\n",
      "Mean -1.06956\n",
      "pval 0.061536502093076706\n",
      "Mean rev likely @ 5% c.l. True \n",
      "\n",
      "15Y X 5Y EUR/USD w/ lag of 10\n",
      "Normality False\n",
      "Mean -0.20998\n",
      "pval 0.004768588580191135\n",
      "Mean rev likely @ 5% c.l. False \n",
      "\n",
      "20Y X 5Y EUR/USD w/ lag of 10\n",
      "Normality True\n",
      "Mean -0.16551\n",
      "pval 0.07175207883119583\n",
      "Mean rev likely @ 5% c.l. True \n",
      "\n",
      "25Y X 5Y EUR/USD w/ lag of 10\n",
      "Normality False\n",
      "Mean 0.54032\n",
      "pval 0.015222386457026005\n",
      "Mean rev likely @ 5% c.l. False \n",
      "\n",
      "30Y X 10Y EUR/USD w/ lag of 10\n",
      "Normality False\n",
      "Mean 1.17371\n",
      "pval 1.45558578523719e-08\n",
      "Mean rev likely @ 5% c.l. False \n",
      "\n"
     ]
    }
   ],
   "source": [
    "### Out of sample residual stats ###\n",
    "cols = resid.columns.get_values()\n",
    "n = 1\n",
    "resid[cols[n]].plot(kind='hist',bins=15,title=cols[n])\n",
    "#plt.show()\n",
    "\n",
    "from scipy import stats\n",
    "\n",
    "cols = resid.columns.get_values()\n",
    "tstat = []\n",
    "pval = []\n",
    "\n",
    "# Import the Time Series library\n",
    "import statsmodels.tsa.stattools as ts\n",
    "\n",
    "# Output the results of the Augmented Dickey-Fuller test for Google\n",
    "# with a lag order value of 1\n",
    "\n",
    "lag = 10\n",
    "\n",
    "for i in range(0,resid.shape[1]):\n",
    "    \n",
    "    print(cols[i],'w/ lag of',lag)\n",
    "    \n",
    "    tstat.append(stats.shapiro(resid[cols[i]].values)[0])\n",
    "    pval.append(stats.shapiro(resid[cols[i]].values)[1])\n",
    "    print('Normality',stats.shapiro(resid[cols[i]].values)[1]>0.05) #Null accepted if p>0.05 and if Normal\n",
    "    print('Mean',np.round(np.mean(resid[cols[i]]),5))\n",
    "    print('pval',stats.shapiro(resid[cols[i]].values)[1])\n",
    "    \n",
    "    print('Mean rev likely @ 5% c.l.',ts.adfuller(resid[cols[i]], lag)[1]<0.05,'\\n')\n",
    "\n",
    "# Notes of ADF test for mean reversion\n",
    "\n",
    "# The first value is the calculated test-statistic, while the second value is the p-value. \n",
    "# The fourth is the number of data points in the sample. \n",
    "# The fifth value, the dictionary, contains the critical values of the test-statistic \n",
    "# at the 1, 5 and 10 percent values respectively.\n",
    "\n",
    "# Since the calculated value of the test statistic is *larger* than any of the critical values \n",
    "# at the 1, 5 or 10 percent levels, we cannot reject the null hypothesis of γ=0 and thus we \n",
    "# are *unlikely* to have found a mean reverting time series."
   ]
  }
 ],
 "metadata": {
  "kernelspec": {
   "display_name": "Python 3",
   "language": "python",
   "name": "python3"
  },
  "language_info": {
   "codemirror_mode": {
    "name": "ipython",
    "version": 3
   },
   "file_extension": ".py",
   "mimetype": "text/x-python",
   "name": "python",
   "nbconvert_exporter": "python",
   "pygments_lexer": "ipython3",
   "version": "3.6.8"
  }
 },
 "nbformat": 4,
 "nbformat_minor": 2
}